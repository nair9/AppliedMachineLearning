{
 "cells": [
  {
   "cell_type": "code",
   "execution_count": 23,
   "id": "bdf43391",
   "metadata": {},
   "outputs": [],
   "source": [
    "# Importing necessary packages\n",
    "import numpy as np\n",
    "import pandas as pd\n",
    "import matplotlib.pyplot as plt\n",
    "from sklearn.model_selection import GridSearchCV\n",
    "from sklearn.metrics import classification_report, confusion_matrix, accuracy_score\n",
    "from sklearn.neural_network import MLPClassifier\n",
    "from sklearn.model_selection import train_test_split\n",
    "from sklearn.preprocessing import OrdinalEncoder\n",
    "\n",
    "import warnings\n",
    "warnings.filterwarnings('ignore')"
   ]
  },
  {
   "cell_type": "markdown",
   "id": "2633d38c",
   "metadata": {},
   "source": [
    "**Step 1: use our “titanic” dataset in homework #3, and split data in the same way you did in homework #3 – 80% as training and 20% test sets**"
   ]
  },
  {
   "cell_type": "code",
   "execution_count": 24,
   "id": "7ff3649b",
   "metadata": {},
   "outputs": [
    {
     "data": {
      "text/html": [
       "<div>\n",
       "<style scoped>\n",
       "    .dataframe tbody tr th:only-of-type {\n",
       "        vertical-align: middle;\n",
       "    }\n",
       "\n",
       "    .dataframe tbody tr th {\n",
       "        vertical-align: top;\n",
       "    }\n",
       "\n",
       "    .dataframe thead th {\n",
       "        text-align: right;\n",
       "    }\n",
       "</style>\n",
       "<table border=\"1\" class=\"dataframe\">\n",
       "  <thead>\n",
       "    <tr style=\"text-align: right;\">\n",
       "      <th></th>\n",
       "      <th>Unnamed: 0</th>\n",
       "      <th>pclass</th>\n",
       "      <th>survived</th>\n",
       "      <th>name</th>\n",
       "      <th>sex</th>\n",
       "      <th>age</th>\n",
       "      <th>sibsp</th>\n",
       "      <th>parch</th>\n",
       "      <th>ticket</th>\n",
       "      <th>fare</th>\n",
       "      <th>cabin</th>\n",
       "      <th>embarked</th>\n",
       "      <th>boat</th>\n",
       "      <th>body</th>\n",
       "      <th>home.dest</th>\n",
       "    </tr>\n",
       "  </thead>\n",
       "  <tbody>\n",
       "    <tr>\n",
       "      <th>0</th>\n",
       "      <td>1</td>\n",
       "      <td>1st</td>\n",
       "      <td>1</td>\n",
       "      <td>Allen, Miss. Elisabeth Walton</td>\n",
       "      <td>female</td>\n",
       "      <td>29.0000</td>\n",
       "      <td>0</td>\n",
       "      <td>0</td>\n",
       "      <td>24160</td>\n",
       "      <td>211.337494</td>\n",
       "      <td>B5</td>\n",
       "      <td>Southampton</td>\n",
       "      <td>2</td>\n",
       "      <td>NaN</td>\n",
       "      <td>St Louis, MO</td>\n",
       "    </tr>\n",
       "    <tr>\n",
       "      <th>1</th>\n",
       "      <td>2</td>\n",
       "      <td>1st</td>\n",
       "      <td>1</td>\n",
       "      <td>Allison, Master. Hudson Trevor</td>\n",
       "      <td>male</td>\n",
       "      <td>0.9167</td>\n",
       "      <td>1</td>\n",
       "      <td>2</td>\n",
       "      <td>113781</td>\n",
       "      <td>151.550003</td>\n",
       "      <td>C22 C26</td>\n",
       "      <td>Southampton</td>\n",
       "      <td>11</td>\n",
       "      <td>NaN</td>\n",
       "      <td>Montreal, PQ / Chesterville, ON</td>\n",
       "    </tr>\n",
       "    <tr>\n",
       "      <th>2</th>\n",
       "      <td>3</td>\n",
       "      <td>1st</td>\n",
       "      <td>0</td>\n",
       "      <td>Allison, Miss. Helen Loraine</td>\n",
       "      <td>female</td>\n",
       "      <td>2.0000</td>\n",
       "      <td>1</td>\n",
       "      <td>2</td>\n",
       "      <td>113781</td>\n",
       "      <td>151.550003</td>\n",
       "      <td>C22 C26</td>\n",
       "      <td>Southampton</td>\n",
       "      <td>NaN</td>\n",
       "      <td>NaN</td>\n",
       "      <td>Montreal, PQ / Chesterville, ON</td>\n",
       "    </tr>\n",
       "    <tr>\n",
       "      <th>3</th>\n",
       "      <td>4</td>\n",
       "      <td>1st</td>\n",
       "      <td>0</td>\n",
       "      <td>Allison, Mr. Hudson Joshua Crei</td>\n",
       "      <td>male</td>\n",
       "      <td>30.0000</td>\n",
       "      <td>1</td>\n",
       "      <td>2</td>\n",
       "      <td>113781</td>\n",
       "      <td>151.550003</td>\n",
       "      <td>C22 C26</td>\n",
       "      <td>Southampton</td>\n",
       "      <td>NaN</td>\n",
       "      <td>135.0</td>\n",
       "      <td>Montreal, PQ / Chesterville, ON</td>\n",
       "    </tr>\n",
       "    <tr>\n",
       "      <th>4</th>\n",
       "      <td>5</td>\n",
       "      <td>1st</td>\n",
       "      <td>0</td>\n",
       "      <td>Allison, Mrs. Hudson J C (Bessi</td>\n",
       "      <td>female</td>\n",
       "      <td>25.0000</td>\n",
       "      <td>1</td>\n",
       "      <td>2</td>\n",
       "      <td>113781</td>\n",
       "      <td>151.550003</td>\n",
       "      <td>C22 C26</td>\n",
       "      <td>Southampton</td>\n",
       "      <td>NaN</td>\n",
       "      <td>NaN</td>\n",
       "      <td>Montreal, PQ / Chesterville, ON</td>\n",
       "    </tr>\n",
       "  </tbody>\n",
       "</table>\n",
       "</div>"
      ],
      "text/plain": [
       "   Unnamed: 0 pclass  survived                             name     sex  \\\n",
       "0           1    1st         1    Allen, Miss. Elisabeth Walton  female   \n",
       "1           2    1st         1   Allison, Master. Hudson Trevor    male   \n",
       "2           3    1st         0     Allison, Miss. Helen Loraine  female   \n",
       "3           4    1st         0  Allison, Mr. Hudson Joshua Crei    male   \n",
       "4           5    1st         0  Allison, Mrs. Hudson J C (Bessi  female   \n",
       "\n",
       "       age  sibsp  parch  ticket        fare    cabin     embarked boat  \\\n",
       "0  29.0000      0      0   24160  211.337494       B5  Southampton    2   \n",
       "1   0.9167      1      2  113781  151.550003  C22 C26  Southampton   11   \n",
       "2   2.0000      1      2  113781  151.550003  C22 C26  Southampton  NaN   \n",
       "3  30.0000      1      2  113781  151.550003  C22 C26  Southampton  NaN   \n",
       "4  25.0000      1      2  113781  151.550003  C22 C26  Southampton  NaN   \n",
       "\n",
       "    body                        home.dest  \n",
       "0    NaN                     St Louis, MO  \n",
       "1    NaN  Montreal, PQ / Chesterville, ON  \n",
       "2    NaN  Montreal, PQ / Chesterville, ON  \n",
       "3  135.0  Montreal, PQ / Chesterville, ON  \n",
       "4    NaN  Montreal, PQ / Chesterville, ON  "
      ]
     },
     "execution_count": 24,
     "metadata": {},
     "output_type": "execute_result"
    }
   ],
   "source": [
    "data = pd.read_csv(\"Titanic.csv\")\n",
    "data.head()"
   ]
  },
  {
   "cell_type": "code",
   "execution_count": 25,
   "id": "a414f664",
   "metadata": {},
   "outputs": [
    {
     "data": {
      "text/html": [
       "<div>\n",
       "<style scoped>\n",
       "    .dataframe tbody tr th:only-of-type {\n",
       "        vertical-align: middle;\n",
       "    }\n",
       "\n",
       "    .dataframe tbody tr th {\n",
       "        vertical-align: top;\n",
       "    }\n",
       "\n",
       "    .dataframe thead th {\n",
       "        text-align: right;\n",
       "    }\n",
       "</style>\n",
       "<table border=\"1\" class=\"dataframe\">\n",
       "  <thead>\n",
       "    <tr style=\"text-align: right;\">\n",
       "      <th></th>\n",
       "      <th>pclass</th>\n",
       "      <th>sex</th>\n",
       "      <th>age</th>\n",
       "      <th>sibsp</th>\n",
       "    </tr>\n",
       "  </thead>\n",
       "  <tbody>\n",
       "    <tr>\n",
       "      <th>0</th>\n",
       "      <td>1st</td>\n",
       "      <td>female</td>\n",
       "      <td>29.0000</td>\n",
       "      <td>0</td>\n",
       "    </tr>\n",
       "    <tr>\n",
       "      <th>1</th>\n",
       "      <td>1st</td>\n",
       "      <td>male</td>\n",
       "      <td>0.9167</td>\n",
       "      <td>1</td>\n",
       "    </tr>\n",
       "    <tr>\n",
       "      <th>2</th>\n",
       "      <td>1st</td>\n",
       "      <td>female</td>\n",
       "      <td>2.0000</td>\n",
       "      <td>1</td>\n",
       "    </tr>\n",
       "    <tr>\n",
       "      <th>3</th>\n",
       "      <td>1st</td>\n",
       "      <td>male</td>\n",
       "      <td>30.0000</td>\n",
       "      <td>1</td>\n",
       "    </tr>\n",
       "    <tr>\n",
       "      <th>4</th>\n",
       "      <td>1st</td>\n",
       "      <td>female</td>\n",
       "      <td>25.0000</td>\n",
       "      <td>1</td>\n",
       "    </tr>\n",
       "  </tbody>\n",
       "</table>\n",
       "</div>"
      ],
      "text/plain": [
       "  pclass     sex      age  sibsp\n",
       "0    1st  female  29.0000      0\n",
       "1    1st    male   0.9167      1\n",
       "2    1st  female   2.0000      1\n",
       "3    1st    male  30.0000      1\n",
       "4    1st  female  25.0000      1"
      ]
     },
     "execution_count": 25,
     "metadata": {},
     "output_type": "execute_result"
    }
   ],
   "source": [
    "x = data[['pclass', 'sex', 'age', 'sibsp']]\n",
    "y = data['survived']\n",
    "x.head()"
   ]
  },
  {
   "cell_type": "code",
   "execution_count": 26,
   "id": "04767525",
   "metadata": {},
   "outputs": [
    {
     "data": {
      "text/plain": [
       "pclass      0\n",
       "sex         0\n",
       "age       263\n",
       "sibsp       0\n",
       "dtype: int64"
      ]
     },
     "execution_count": 26,
     "metadata": {},
     "output_type": "execute_result"
    }
   ],
   "source": [
    "x.isnull().sum()"
   ]
  },
  {
   "cell_type": "code",
   "execution_count": 27,
   "id": "49b71a14",
   "metadata": {},
   "outputs": [],
   "source": [
    "x.fillna(x.mean(), inplace = True)"
   ]
  },
  {
   "cell_type": "code",
   "execution_count": 28,
   "id": "d9f53e7a",
   "metadata": {},
   "outputs": [
    {
     "data": {
      "text/plain": [
       "pclass    0\n",
       "sex       0\n",
       "age       0\n",
       "sibsp     0\n",
       "dtype: int64"
      ]
     },
     "execution_count": 28,
     "metadata": {},
     "output_type": "execute_result"
    }
   ],
   "source": [
    "x.isnull().sum()"
   ]
  },
  {
   "cell_type": "code",
   "execution_count": 29,
   "id": "409550d9",
   "metadata": {},
   "outputs": [],
   "source": [
    "ordinal_encoder = OrdinalEncoder()\n",
    "\n",
    "x.loc[:,\"sex\"] = ordinal_encoder.fit_transform(x[[\"sex\"]])\n",
    "\n",
    "x.loc[:,\"pclass\"] = ordinal_encoder.fit_transform(x[[\"pclass\"]])"
   ]
  },
  {
   "cell_type": "code",
   "execution_count": 30,
   "id": "726fc90d",
   "metadata": {},
   "outputs": [
    {
     "data": {
      "text/html": [
       "<div>\n",
       "<style scoped>\n",
       "    .dataframe tbody tr th:only-of-type {\n",
       "        vertical-align: middle;\n",
       "    }\n",
       "\n",
       "    .dataframe tbody tr th {\n",
       "        vertical-align: top;\n",
       "    }\n",
       "\n",
       "    .dataframe thead th {\n",
       "        text-align: right;\n",
       "    }\n",
       "</style>\n",
       "<table border=\"1\" class=\"dataframe\">\n",
       "  <thead>\n",
       "    <tr style=\"text-align: right;\">\n",
       "      <th></th>\n",
       "      <th>pclass</th>\n",
       "      <th>sex</th>\n",
       "      <th>age</th>\n",
       "      <th>sibsp</th>\n",
       "    </tr>\n",
       "  </thead>\n",
       "  <tbody>\n",
       "    <tr>\n",
       "      <th>1304</th>\n",
       "      <td>2.0</td>\n",
       "      <td>0.0</td>\n",
       "      <td>14.500000</td>\n",
       "      <td>1</td>\n",
       "    </tr>\n",
       "    <tr>\n",
       "      <th>1305</th>\n",
       "      <td>2.0</td>\n",
       "      <td>0.0</td>\n",
       "      <td>29.881135</td>\n",
       "      <td>1</td>\n",
       "    </tr>\n",
       "    <tr>\n",
       "      <th>1306</th>\n",
       "      <td>2.0</td>\n",
       "      <td>1.0</td>\n",
       "      <td>26.500000</td>\n",
       "      <td>0</td>\n",
       "    </tr>\n",
       "    <tr>\n",
       "      <th>1307</th>\n",
       "      <td>2.0</td>\n",
       "      <td>1.0</td>\n",
       "      <td>27.000000</td>\n",
       "      <td>0</td>\n",
       "    </tr>\n",
       "    <tr>\n",
       "      <th>1308</th>\n",
       "      <td>2.0</td>\n",
       "      <td>1.0</td>\n",
       "      <td>29.000000</td>\n",
       "      <td>0</td>\n",
       "    </tr>\n",
       "  </tbody>\n",
       "</table>\n",
       "</div>"
      ],
      "text/plain": [
       "      pclass  sex        age  sibsp\n",
       "1304     2.0  0.0  14.500000      1\n",
       "1305     2.0  0.0  29.881135      1\n",
       "1306     2.0  1.0  26.500000      0\n",
       "1307     2.0  1.0  27.000000      0\n",
       "1308     2.0  1.0  29.000000      0"
      ]
     },
     "execution_count": 30,
     "metadata": {},
     "output_type": "execute_result"
    }
   ],
   "source": [
    "x.tail()"
   ]
  },
  {
   "cell_type": "code",
   "execution_count": 31,
   "id": "bab4fe89",
   "metadata": {},
   "outputs": [
    {
     "name": "stdout",
     "output_type": "stream",
     "text": [
      "Shape of:\n",
      "x_train = (1047, 4) \ty_train = (1047,) \n",
      "x_test = (262, 4) \ty_test = (262,)\n"
     ]
    }
   ],
   "source": [
    "x_train, x_test, y_train, y_test = train_test_split(x, y, test_size = 0.2, random_state = 1234, stratify = y)\n",
    "print('Shape of:\\nx_train =',x_train.shape, '\\ty_train =', y_train.shape, '\\nx_test =', x_test.shape, '\\ty_test =', y_test.shape)"
   ]
  },
  {
   "cell_type": "markdown",
   "id": "64f9822b",
   "metadata": {},
   "source": [
    "**Step 2: Fit a neural network using independent variables ‘pclass + sex + age + sibsp’ and dependent variable ‘survived’. Fill in n/a attributes with the average of the same attributes from other training examples. Use 2 hidden layers and set the activation functions for both the hidden and output layer to be the sigmoid function. Set “solver” parameter as either SGD (stochastic gradient descend) or Adam (similar to SGD but optimized performance with mini batches). You can adjust parameter “alpha” for regularization (to control overfitting) and other parameters such as “learning rate” and “momentum” as needed.**"
   ]
  },
  {
   "cell_type": "code",
   "execution_count": 32,
   "id": "2f5e9982",
   "metadata": {},
   "outputs": [
    {
     "data": {
      "text/plain": [
       "MLPClassifier(activation='logistic', hidden_layer_sizes=(20, 20), momentum=0.3,\n",
       "              random_state=1234)"
      ]
     },
     "execution_count": 32,
     "metadata": {},
     "output_type": "execute_result"
    }
   ],
   "source": [
    "mlp = MLPClassifier(solver='adam', hidden_layer_sizes=(20,20), \n",
    "                    activation='logistic', alpha=0.0001, momentum=0.3, random_state=1234)\n",
    "mlp.fit(x_train, y_train)"
   ]
  },
  {
   "cell_type": "code",
   "execution_count": 33,
   "id": "ad8ff216",
   "metadata": {},
   "outputs": [
    {
     "name": "stdout",
     "output_type": "stream",
     "text": [
      "Accuracy: 0.8587786259541985\n"
     ]
    }
   ],
   "source": [
    "# Predicting on the test set\n",
    "y_pred = mlp.predict(x_test)\n",
    "\n",
    "accuracy = accuracy_score(y_test, y_pred)\n",
    "print(\"Accuracy:\", accuracy)"
   ]
  },
  {
   "cell_type": "markdown",
   "id": "88758b99",
   "metadata": {},
   "source": [
    "**Step 3: Check the performance of the model with out-of- sample accuracy, defined as\n",
    "out-of-sample percent survivors correctly predicted (on test set)\n",
    "out-of-sample percent fatalities correctly predicted (on test set)\n",
    "Please try two different network structures (i.e., number of neurons at each hidden layer) and\n",
    "show their respective accuracy.**"
   ]
  },
  {
   "cell_type": "code",
   "execution_count": 34,
   "id": "ec63344d",
   "metadata": {},
   "outputs": [
    {
     "name": "stdout",
     "output_type": "stream",
     "text": [
      "in-sample survivors correctly predicted (on training set) = 64.75%\n",
      "in-sample fatalities correctly predicted (on training set) = 88.72%\n",
      "\n",
      "out-of-sample survivors correctly predicted (on testing set) = 70.00%\n",
      "out-of‐sample fatalities correctly predicted (on testing set) = 95.68%\n"
     ]
    }
   ],
   "source": [
    "y_pred_train = mlp.predict(x_train)\n",
    "\n",
    "confusion_matrix_train = confusion_matrix(y_train, y_pred_train)\n",
    "TN = confusion_matrix_train[0][0]\n",
    "FN = confusion_matrix_train[1][0]\n",
    "TP = confusion_matrix_train[1][1]\n",
    "FP = confusion_matrix_train[0][1]\n",
    "\n",
    "print(\"in-sample survivors correctly predicted (on training set) = {0:.2f}%\".format(TP/(TP+FN)*100))\n",
    "\n",
    "print(\"in-sample fatalities correctly predicted (on training set) = {0:.2f}%\".format(TN/(FP+TN)*100))\n",
    "\n",
    "\n",
    "confusion_matrix_test = confusion_matrix(y_test, y_pred)\n",
    "TN = confusion_matrix_test[0][0]\n",
    "FN = confusion_matrix_test[1][0]\n",
    "TP = confusion_matrix_test[1][1]\n",
    "FP = confusion_matrix_test[0][1]\n",
    "\n",
    "print(\"\\nout-of-sample survivors correctly predicted (on testing set) = {0:.2f}%\".format(TP/(TP+FN)*100))\n",
    "\n",
    "print(\"out-of‐sample fatalities correctly predicted (on testing set) = {0:.2f}%\".format(TN/(FP+TN)*100))"
   ]
  },
  {
   "cell_type": "markdown",
   "id": "75ea1c44",
   "metadata": {},
   "source": [
    "**Using another network structure with : different number of neurons = 100 at each hidden layer**"
   ]
  },
  {
   "cell_type": "code",
   "execution_count": 35,
   "id": "cb233f39",
   "metadata": {},
   "outputs": [
    {
     "data": {
      "text/plain": [
       "MLPClassifier(activation='logistic', hidden_layer_sizes=(100, 100),\n",
       "              momentum=0.3, random_state=1234)"
      ]
     },
     "execution_count": 35,
     "metadata": {},
     "output_type": "execute_result"
    }
   ],
   "source": [
    "mlp = MLPClassifier(solver='adam', hidden_layer_sizes=(100,100), \n",
    "                    activation='logistic', alpha=0.0001, momentum=0.3, random_state=1234)\n",
    "mlp.fit(x_train, y_train)"
   ]
  },
  {
   "cell_type": "code",
   "execution_count": 36,
   "id": "8dd5ac9c",
   "metadata": {},
   "outputs": [
    {
     "name": "stdout",
     "output_type": "stream",
     "text": [
      "Accuracy: 0.8549618320610687\n"
     ]
    }
   ],
   "source": [
    "# Predicting on the test set\n",
    "y_pred = mlp.predict(x_test)\n",
    "\n",
    "accuracy = accuracy_score(y_test, y_pred)\n",
    "print(\"Accuracy:\", accuracy)"
   ]
  },
  {
   "cell_type": "code",
   "execution_count": 40,
   "id": "420b2729",
   "metadata": {},
   "outputs": [
    {
     "name": "stdout",
     "output_type": "stream",
     "text": [
      "in-sample survivors correctly predicted (on training set) = 65.75%\n",
      "in-sample fatalities correctly predicted (on training set) = 88.10%\n",
      "\n",
      "out-of-sample survivors correctly predicted (on testing set) = 70.00%\n",
      "out-of‐sample fatalities correctly predicted (on testing set) = 95.06%\n"
     ]
    }
   ],
   "source": [
    "# Predicting on the train set\n",
    "y_pred_train = mlp.predict(x_train)\n",
    "\n",
    "confusion_matrix_train = confusion_matrix(y_train, y_pred_train)\n",
    "TN = confusion_matrix_train[0][0]\n",
    "FN = confusion_matrix_train[1][0]\n",
    "TP = confusion_matrix_train[1][1]\n",
    "FP = confusion_matrix_train[0][1]\n",
    "\n",
    "print(\"in-sample survivors correctly predicted (on training set) = {0:.2f}%\".format(TP/(TP+FN)*100))\n",
    "\n",
    "print(\"in-sample fatalities correctly predicted (on training set) = {0:.2f}%\".format(TN/(FP+TN)*100))\n",
    "\n",
    "\n",
    "confusion_matrix_test = confusion_matrix(y_test, y_pred)\n",
    "TN = confusion_matrix_test[0][0]\n",
    "FN = confusion_matrix_test[1][0]\n",
    "TP = confusion_matrix_test[1][1]\n",
    "FP = confusion_matrix_test[0][1]\n",
    "\n",
    "print(\"\\nout-of-sample survivors correctly predicted (on testing set) = {0:.2f}%\".format(TP/(TP+FN)*100))\n",
    "\n",
    "print(\"out-of‐sample fatalities correctly predicted (on testing set) = {0:.2f}%\".format(TN/(FP+TN)*100))"
   ]
  },
  {
   "cell_type": "markdown",
   "id": "53feb697",
   "metadata": {},
   "source": [
    "**Step 4: Compare the out-of-sample accuracy (as defined in step 3) with the random forest\n",
    "obtained in homework #3. (You can either use a table or plot the results of the two algorithms\n",
    "in one figure). Explain any difference in accuracy.**"
   ]
  },
  {
   "cell_type": "code",
   "execution_count": 38,
   "id": "b79c67cb",
   "metadata": {},
   "outputs": [
    {
     "data": {
      "text/html": [
       "<div>\n",
       "<style scoped>\n",
       "    .dataframe tbody tr th:only-of-type {\n",
       "        vertical-align: middle;\n",
       "    }\n",
       "\n",
       "    .dataframe tbody tr th {\n",
       "        vertical-align: top;\n",
       "    }\n",
       "\n",
       "    .dataframe thead th {\n",
       "        text-align: right;\n",
       "    }\n",
       "</style>\n",
       "<table border=\"1\" class=\"dataframe\">\n",
       "  <thead>\n",
       "    <tr style=\"text-align: right;\">\n",
       "      <th></th>\n",
       "      <th>Parameter</th>\n",
       "      <th>Random Forest Classifier</th>\n",
       "      <th>2 Layer NN with 20 neurons</th>\n",
       "      <th>2 Layer NN with 100 neurons</th>\n",
       "    </tr>\n",
       "  </thead>\n",
       "  <tbody>\n",
       "    <tr>\n",
       "      <th>0</th>\n",
       "      <td>out‐of‐sample survivors correctly predicted (on testing set)</td>\n",
       "      <td>71.00%</td>\n",
       "      <td>70.00%</td>\n",
       "      <td>70.00%</td>\n",
       "    </tr>\n",
       "    <tr>\n",
       "      <th>1</th>\n",
       "      <td>out-of‐sample fatalities correctly predicted (on testing set)</td>\n",
       "      <td>88.89%</td>\n",
       "      <td>95.68%</td>\n",
       "      <td>95.06%</td>\n",
       "    </tr>\n",
       "  </tbody>\n",
       "</table>\n",
       "</div>"
      ],
      "text/plain": [
       "                                                       Parameter  \\\n",
       "0  out‐of‐sample survivors correctly predicted (on testing set)    \n",
       "1  out-of‐sample fatalities correctly predicted (on testing set)   \n",
       "\n",
       "  Random Forest Classifier 2 Layer NN with 20 neurons  \\\n",
       "0  71.00%                   70.00%                      \n",
       "1  88.89%                   95.68%                      \n",
       "\n",
       "  2 Layer NN with 100 neurons  \n",
       "0  70.00%                      \n",
       "1  95.06%                      "
      ]
     },
     "execution_count": 38,
     "metadata": {},
     "output_type": "execute_result"
    }
   ],
   "source": [
    "df = pd.DataFrame(columns=['Parameter', 'Random Forest Classifier', '2 Layer NN with 20 neurons','2 Layer NN with 100 neurons'])\n",
    "\n",
    "df = df.append({'Parameter': 'out‐of‐sample survivors correctly predicted (on testing set)', 'Random Forest Classifier': '71.00%', '2 Layer NN with 20 neurons': '70.00%','2 Layer NN with 100 neurons':'70.00%'}, ignore_index=True)\n",
    "df = df.append({'Parameter': 'out-of‐sample fatalities correctly predicted (on testing set)', 'Random Forest Classifier': '88.89%', '2 Layer NN with 20 neurons': '95.68%','2 Layer NN with 100 neurons':'95.06%'}, ignore_index=True)\n",
    "pd.set_option('display.max_colwidth', -1)\n",
    "df"
   ]
  },
  {
   "cell_type": "code",
   "execution_count": 41,
   "id": "a391cae2",
   "metadata": {},
   "outputs": [],
   "source": [
    "# Random Forest Results\n",
    "# Percent of survivors correctly predicted (on test set): 71.0 %\n",
    "# Percent of fatalities correctly predicted (on test set): 88.89 %"
   ]
  },
  {
   "cell_type": "markdown",
   "id": "07a9b0b5",
   "metadata": {},
   "source": [
    "**The accuracy with the Neural Network is much better than that with the Random Forest Classifier.**"
   ]
  },
  {
   "cell_type": "code",
   "execution_count": null,
   "id": "d564e654",
   "metadata": {},
   "outputs": [],
   "source": []
  }
 ],
 "metadata": {
  "kernelspec": {
   "display_name": "Python 3 (ipykernel)",
   "language": "python",
   "name": "python3"
  },
  "language_info": {
   "codemirror_mode": {
    "name": "ipython",
    "version": 3
   },
   "file_extension": ".py",
   "mimetype": "text/x-python",
   "name": "python",
   "nbconvert_exporter": "python",
   "pygments_lexer": "ipython3",
   "version": "3.9.12"
  }
 },
 "nbformat": 4,
 "nbformat_minor": 5
}
